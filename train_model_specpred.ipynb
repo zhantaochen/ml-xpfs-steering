{
 "cells": [
  {
   "cell_type": "code",
   "execution_count": 1,
   "metadata": {},
   "outputs": [
    {
     "name": "stderr",
     "output_type": "stream",
     "text": [
      "/global/homes/z/zhantao/.conda/envs/sqt/lib/python3.9/site-packages/tqdm/auto.py:22: TqdmWarning: IProgress not found. Please update jupyter and ipywidgets. See https://ipywidgets.readthedocs.io/en/stable/user_install.html\n",
      "  from .autonotebook import tqdm as notebook_tqdm\n"
     ]
    }
   ],
   "source": [
    "import os\n",
    "import numpy as np\n",
    "import pytorch_lightning as pl\n",
    "from pytorch_lightning.callbacks import TQDMProgressBar\n",
    "\n",
    "import torch\n",
    "from torch.utils.data import TensorDataset, DataLoader\n",
    "from src.model_specpred import SpectrumPredictor\n",
    "from sklearn.model_selection import train_test_split\n",
    "\n",
    "import matplotlib.pyplot as plt\n",
    "\n",
    "torch.set_default_dtype(torch.float64)"
   ]
  },
  {
   "cell_type": "code",
   "execution_count": 2,
   "metadata": {},
   "outputs": [
    {
     "name": "stdout",
     "output_type": "stream",
     "text": [
      "indices file already exists\n",
      "print some values for further reference:\n",
      "training:\n",
      " tensor([[-2.3143, -0.3618],\n",
      "        [-2.4444, -0.6381],\n",
      "        [-2.6286, -0.5272],\n",
      "        [-1.8786, -0.7309],\n",
      "        [-2.6962, -0.1298]])\n",
      "validation:\n",
      " tensor([[-2.3239, -0.7632],\n",
      "        [-2.5760, -0.7125],\n",
      "        [-1.5439, -0.2241],\n",
      "        [-1.0737, -0.6450],\n",
      "        [-1.4596, -0.8546]])\n",
      "testing:\n",
      " tensor([[-1.5924e+00, -2.1911e-01],\n",
      "        [-2.9503e+00, -8.5994e-04],\n",
      "        [-1.6105e+00, -2.4190e-01],\n",
      "        [-2.3308e+00, -4.2538e-01],\n",
      "        [-1.8445e+00, -5.6670e-01]])\n"
     ]
    }
   ],
   "source": [
    "data = torch.load(\"data/CrI3/20221110.pt\")\n",
    "X = data['param'][:,:2]\n",
    "Y = torch.cat((data['omega'], data['inten']), dim=1)\n",
    "indices = np.arange(X.shape[0])\n",
    "\n",
    "rdn_state = 42\n",
    "X_train, X_val_test, Y_train, Y_val_test, indices_train, indices_val_test = train_test_split(X, Y, indices, test_size=2/10, random_state=rdn_state)\n",
    "X_val, X_test, Y_val, Y_test, indices_val, indices_test = train_test_split(X_val_test, Y_val_test, indices_val_test, test_size=1/2, random_state=rdn_state)\n",
    "\n",
    "assert torch.all(torch.tensor([eval(f\"torch.all(X_{s} == X[indices_{s}])\") for s in ['train', 'val', 'test']]))\n",
    "indices_fname = f\"data_splitting/indices_{rdn_state}_{len(indices_train)}-{len(indices_val)}-{len(indices_test)}.pt\"\n",
    "if not os.path.isfile(indices_fname):\n",
    "    print(\"saving to \", indices_fname)\n",
    "    torch.save({\"train\": indices_train, \"val\": indices_val, \"test\": indices_test}, indices_fname)\n",
    "else:\n",
    "    print(\"indices file already exists\")\n",
    "\n",
    "print(\"print some values for further reference:\")\n",
    "print(\"training:\\n\", X_train[:5])\n",
    "print(\"validation:\\n\", X_val[:5])\n",
    "print(\"testing:\\n\", X_test[:5])\n",
    "\n",
    "train_dataset = TensorDataset(X_train, Y_train)\n",
    "train_dataloader = DataLoader(train_dataset, batch_size=16, shuffle=True)\n",
    "\n",
    "val_dataset = TensorDataset(X_val, Y_val)\n",
    "val_dataloader = DataLoader(val_dataset, batch_size=16, shuffle=False)"
   ]
  },
  {
   "cell_type": "code",
   "execution_count": 3,
   "metadata": {},
   "outputs": [],
   "source": [
    "model_spec = SpectrumPredictor(num_param_in=X.shape[1], num_mode=2)"
   ]
  },
  {
   "cell_type": "code",
   "execution_count": 4,
   "metadata": {},
   "outputs": [
    {
     "name": "stderr",
     "output_type": "stream",
     "text": [
      "/global/homes/z/zhantao/.conda/envs/sqt/lib/python3.9/site-packages/lightning_fabric/plugins/environments/slurm.py:166: PossibleUserWarning: The `srun` command is available on your system but is not used. HINT: If your intention is to run Lightning on SLURM, prepend your python command with `srun` like so: srun python /global/homes/z/zhantao/.conda/envs/sqt/lib/python3. ...\n",
      "  rank_zero_warn(\n",
      "GPU available: True (cuda), used: True\n",
      "TPU available: False, using: 0 TPU cores\n",
      "IPU available: False, using: 0 IPUs\n",
      "HPU available: False, using: 0 HPUs\n",
      "You are using a CUDA device ('NVIDIA A100-PCIE-40GB') that has Tensor Cores. To properly utilize them, you should set `torch.set_float32_matmul_precision('medium' | 'high')` which will trade-off precision for performance. For more details, read https://pytorch.org/docs/stable/generated/torch.set_float32_matmul_precision.html#torch.set_float32_matmul_precision\n",
      "LOCAL_RANK: 0 - CUDA_VISIBLE_DEVICES: [0]\n",
      "\n",
      "  | Name   | Type       | Params\n",
      "--------------------------------------\n",
      "0 | fc_net | Sequential | 42.2 K\n",
      "--------------------------------------\n",
      "42.2 K    Trainable params\n",
      "0         Non-trainable params\n",
      "42.2 K    Total params\n",
      "0.169     Total estimated model params size (MB)\n"
     ]
    },
    {
     "name": "stdout",
     "output_type": "stream",
     "text": [
      "Sanity Checking DataLoader 0:   0%|          | 0/2 [00:00<?, ?it/s]"
     ]
    },
    {
     "name": "stderr",
     "output_type": "stream",
     "text": [
      "/global/homes/z/zhantao/.conda/envs/sqt/lib/python3.9/site-packages/pytorch_lightning/trainer/connectors/data_connector.py:224: PossibleUserWarning: The dataloader, val_dataloader 0, does not have many workers which may be a bottleneck. Consider increasing the value of the `num_workers` argument` (try 256 which is the number of cpus on this machine) in the `DataLoader` init to improve performance.\n",
      "  rank_zero_warn(\n"
     ]
    },
    {
     "name": "stdout",
     "output_type": "stream",
     "text": [
      "                                                                           "
     ]
    },
    {
     "name": "stderr",
     "output_type": "stream",
     "text": [
      "/global/homes/z/zhantao/.conda/envs/sqt/lib/python3.9/site-packages/pytorch_lightning/trainer/connectors/data_connector.py:224: PossibleUserWarning: The dataloader, train_dataloader, does not have many workers which may be a bottleneck. Consider increasing the value of the `num_workers` argument` (try 256 which is the number of cpus on this machine) in the `DataLoader` init to improve performance.\n",
      "  rank_zero_warn(\n"
     ]
    },
    {
     "name": "stdout",
     "output_type": "stream",
     "text": [
      "Epoch 9999: 100%|██████████| 57/57 [00:00<00:00, 352.27it/s, loss=0.000152, v_num=6]"
     ]
    },
    {
     "name": "stderr",
     "output_type": "stream",
     "text": [
      "`Trainer.fit` stopped: `max_epochs=10000` reached.\n"
     ]
    },
    {
     "name": "stdout",
     "output_type": "stream",
     "text": [
      "Epoch 9999: 100%|██████████| 57/57 [00:00<00:00, 340.94it/s, loss=0.000152, v_num=6]\n"
     ]
    }
   ],
   "source": [
    "from pytorch_lightning.callbacks import ModelCheckpoint\n",
    "\n",
    "checkpoint_callback = ModelCheckpoint(\n",
    "    save_on_train_epoch_end=True, save_last=True, save_top_k=1, monitor=\"val_loss\"\n",
    ")\n",
    "\n",
    "trainer = pl.Trainer(\n",
    "    max_epochs=10000, accelerator=\"gpu\",\n",
    "    callbacks=[checkpoint_callback, TQDMProgressBar(refresh_rate=5)],\n",
    "    log_every_n_steps=2, devices=1, \n",
    "    enable_checkpointing=True,\n",
    "    default_root_dir=\"training_logs\"\n",
    "    )\n",
    "\n",
    "trainer.fit(model_spec, train_dataloader, val_dataloader)"
   ]
  },
  {
   "cell_type": "code",
   "execution_count": 5,
   "metadata": {},
   "outputs": [
    {
     "data": {
      "text/plain": [
       "SpectrumPredictor(\n",
       "  (fc_net): Sequential(\n",
       "    (0): Linear(in_features=2, out_features=256, bias=True)\n",
       "    (1): ReLU()\n",
       "    (2): Linear(in_features=256, out_features=128, bias=True)\n",
       "    (3): ReLU()\n",
       "    (4): Linear(in_features=128, out_features=64, bias=True)\n",
       "    (5): ReLU()\n",
       "    (6): Linear(in_features=64, out_features=4, bias=False)\n",
       "  )\n",
       ")"
      ]
     },
     "execution_count": 5,
     "metadata": {},
     "output_type": "execute_result"
    }
   ],
   "source": [
    "model_spec.load_from_checkpoint(\"training_logs/lightning_logs/version_6/checkpoints/epoch=8456-step=422850.ckpt\")"
   ]
  },
  {
   "cell_type": "code",
   "execution_count": 6,
   "metadata": {},
   "outputs": [],
   "source": [
    "Y_val_pred = []\n",
    "with torch.no_grad():\n",
    "    for x_val in X_val:\n",
    "        Y_val_pred.append(model_spec(x_val.to(model_spec.device)).detach())\n",
    "Y_val_pred = torch.vstack(Y_val_pred).cpu()"
   ]
  },
  {
   "cell_type": "code",
   "execution_count": 7,
   "metadata": {},
   "outputs": [
    {
     "data": {
      "image/png": "[encoded data removed]",
      "text/plain": [
       "<Figure size 500x500 with 4 Axes>"
      ]
     },
     "metadata": {},
     "output_type": "display_data"
    }
   ],
   "source": [
    "labels = ['$\\omega_1$', '$\\omega_2$', '$S_1$', '$S_2$']\n",
    "\n",
    "fig = plt.figure(figsize=(5,5))\n",
    "gs = plt.GridSpec(2,2)\n",
    "for i in range(4):\n",
    "    ax = fig.add_subplot(gs[i])\n",
    "    ax.plot([-100,100], [-100,100], 'k', linewidth=0.5)\n",
    "    ax.scatter(Y_val[:,i], Y_val_pred[:,i], s=5)\n",
    "    ax.set_aspect('equal')\n",
    "    ax.set_xlim([-0.1*Y_val[:,i].max(), 1.1*Y_val[:,i].max()])\n",
    "    ax.set_ylim([-0.1*Y_val[:,i].max(), 1.1*Y_val[:,i].max()])\n",
    "    ax.set_xlabel(f\"True {labels[i]}\")\n",
    "    ax.set_ylabel(f\"Predicted {labels[i]}\")\n",
    "\n",
    "fig.tight_layout()"
   ]
  }
 ],
 "metadata": {
  "kernelspec": {
   "display_name": "Python 3",
   "language": "python",
   "name": "python3"
  },
  "language_info": {
   "codemirror_mode": {
    "name": "ipython",
    "version": 3
   },
   "file_extension": ".py",
   "mimetype": "text/x-python",
   "name": "python",
   "nbconvert_exporter": "python",
   "pygments_lexer": "ipython3",
   "version": "3.6.15"
  },
  "orig_nbformat": 4,
  "vscode": {
   "interpreter": {
    "hash": "31f2aee4e71d21fbe5cf8b01ff0e069b9275f58929596ceb00d14d90e3e16cd6"
   }
  }
 },
 "nbformat": 4,
 "nbformat_minor": 2
}
